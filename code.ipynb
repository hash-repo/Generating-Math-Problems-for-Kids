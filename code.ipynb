{
 "cells": [
  {
   "cell_type": "code",
   "execution_count": 66,
   "metadata": {},
   "outputs": [
    {
     "name": "stdout",
     "output_type": "stream",
     "text": [
      "Simple Division\n",
      "Simple Multiplication\n",
      "Addition\n",
      "Substarction\n"
     ]
    }
   ],
   "source": [
    "import openpyxl\n",
    "\n",
    "wb = openpyxl.load_workbook(filename = 'arrays.xlsx')\n",
    "for ws in wb.worksheets:\n",
    "    print(ws.title)\n",
    "    \n",
    "ws = wb.worksheets[0]\n",
    "\n",
    "array = [['', 42],\n",
    "         ['÷', 7],\n",
    "         ['', '']]\n",
    "\n",
    "row = 0\n",
    "\n",
    "for r in range(len(array)):\n",
    "    for c in range(len(array[r])):\n",
    "        ws.cell(row=r+1, column=c+1).value = array[r][c]\n",
    "\n",
    "wb.save('arrays.xlsx')\n"
   ]
  },
  {
   "cell_type": "code",
   "execution_count": null,
   "metadata": {},
   "outputs": [],
   "source": []
  }
 ],
 "metadata": {
  "kernelspec": {
   "display_name": "Python 3",
   "language": "python",
   "name": "python3"
  },
  "language_info": {
   "codemirror_mode": {
    "name": "ipython",
    "version": 3
   },
   "file_extension": ".py",
   "mimetype": "text/x-python",
   "name": "python",
   "nbconvert_exporter": "python",
   "pygments_lexer": "ipython3",
   "version": "3.7.6"
  }
 },
 "nbformat": 4,
 "nbformat_minor": 4
}
